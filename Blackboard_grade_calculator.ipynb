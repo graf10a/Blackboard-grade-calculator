{
 "cells": [
  {
   "cell_type": "markdown",
   "metadata": {},
   "source": [
    "# Blackboard Grade Calculator\n",
    "\n",
    "*Alexey Pronin*\n",
    "\n",
    "*November 11, 2017*\n",
    "\n",
    "## The brief description of the purpose of this notebook\n",
    "\n",
    "The purpose of this notebook is to compute the current grades of the students listed in a gradebook file downloaded from [Blackboard](https://www.blackboard.com/index.html) in the coma-separated format. The output is generated in the form of a new CSV file which is obtained by ammending the original gradebook file with *Grades* and *Percentage* columns.\n",
    "\n",
    "This notebook was created in the fall semester of 2017 when Blackboard experienced problems with the *Weighted Total* gradebook column -- the percentages displayed in the column were not computed correctly making it impossible to quickly check the current academic standing of students in my classes. The problem was fixed by the end of the semester but it motivated me to write this code just in case if something similar ever happens again.\n",
    "\n",
    "## Preparing the data\n",
    "\n",
    "### Entering the input data\n",
    "\n",
    "The default name used in this notebook for the CSV file downloaded from Blackboard is *gradebook_file.csv*. A sample of the file is included in the notebook folder for demonstration purposes. The filename can be adjusted by changing the value of the `path` variable defined in the next cell. If the Blackboard file you are processesing is not located in the notebook folder then it is also going to be necessary to provide the complete path to the file."
   ]
  },
  {
   "cell_type": "code",
   "execution_count": 1,
   "metadata": {},
   "outputs": [
    {
     "data": {
      "text/html": [
       "'gradebook_file.csv'"
      ],
      "text/latex": [
       "'gradebook\\_file.csv'"
      ],
      "text/markdown": [
       "'gradebook_file.csv'"
      ],
      "text/plain": [
       "[1] \"gradebook_file.csv\""
      ]
     },
     "metadata": {},
     "output_type": "display_data"
    }
   ],
   "source": [
    "(path <- \"gradebook_file.csv\")\n",
    "#(path <- c(ENTER YOUR PATH HERE, COMMENT THE PRECEEDING LINE(S), AND UNCOMMENT THIS ONE))"
   ]
  },
  {
   "cell_type": "markdown",
   "metadata": {},
   "source": [
    "In order to compute the grades, it is also necessary to specify the categories of course assignments (e.g. homework, quizzes, tests, labs) that were utilized during your course and the weights (or percentages) for each of the categories. The default list of the categories with the corresponding percentages is defined below in a variable called `grading_rule`. To compute the grades correctly, the default list must be replaced with the one used for your course."
   ]
  },
  {
   "cell_type": "code",
   "execution_count": 2,
   "metadata": {
    "scrolled": true
   },
   "outputs": [
    {
     "data": {
      "text/html": [
       "<table>\n",
       "<thead><tr><th scope=col>Category</th><th scope=col>Percentage</th></tr></thead>\n",
       "<tbody>\n",
       "\t<tr><td>HW      </td><td> 5      </td></tr>\n",
       "\t<tr><td>Quiz    </td><td>20      </td></tr>\n",
       "\t<tr><td>Test 1  </td><td>25      </td></tr>\n",
       "\t<tr><td>Test 2  </td><td>25      </td></tr>\n",
       "\t<tr><td>Final   </td><td>25      </td></tr>\n",
       "\t<tr><td>Absences</td><td> 0      </td></tr>\n",
       "</tbody>\n",
       "</table>\n"
      ],
      "text/latex": [
       "\\begin{tabular}{r|ll}\n",
       " Category & Percentage\\\\\n",
       "\\hline\n",
       "\t HW       &  5      \\\\\n",
       "\t Quiz     & 20      \\\\\n",
       "\t Test 1   & 25      \\\\\n",
       "\t Test 2   & 25      \\\\\n",
       "\t Final    & 25      \\\\\n",
       "\t Absences &  0      \\\\\n",
       "\\end{tabular}\n"
      ],
      "text/markdown": [
       "\n",
       "| Category | Percentage |\n",
       "|---|---|\n",
       "| HW       |  5       |\n",
       "| Quiz     | 20       |\n",
       "| Test 1   | 25       |\n",
       "| Test 2   | 25       |\n",
       "| Final    | 25       |\n",
       "| Absences |  0       |\n",
       "\n"
      ],
      "text/plain": [
       "  Category Percentage\n",
       "1 HW        5        \n",
       "2 Quiz     20        \n",
       "3 Test 1   25        \n",
       "4 Test 2   25        \n",
       "5 Final    25        \n",
       "6 Absences  0        "
      ]
     },
     "metadata": {},
     "output_type": "display_data"
    }
   ],
   "source": [
    "grading_rule <- data.frame('Category'   = c('HW', 'Quiz', 'Test 1', 'Test 2', 'Final', 'Absences'),\n",
    "                           'Percentage' = c(  5,    20,      25,       25,       25,      0), \n",
    "                           stringsAsFactors = FALSE)\n",
    "# COMMENT THE PRECEEDING THREE LINES\n",
    "# UNCOMMENT THE THREE LINES FOLLOWING THIS ONE (DON'T FORGET TO ENTER YOUR CATEGORIES AND PERCENTAGES!)\n",
    "#grading_rule <- data.frame('Category'   = c(ENTER YOUR CATEGORIES HERE),\n",
    "#                           'Percentage' = c(ENTER YOUR PERCENTAGES HERE), \n",
    "#                           stringsAsFactors = FALSE)\n",
    "grading_rule"
   ]
  },
  {
   "cell_type": "code",
   "execution_count": 3,
   "metadata": {},
   "outputs": [
    {
     "name": "stderr",
     "output_type": "stream",
     "text": [
      "\n",
      "Attaching package: ‘dplyr’\n",
      "\n",
      "The following objects are masked from ‘package:stats’:\n",
      "\n",
      "    filter, lag\n",
      "\n",
      "The following objects are masked from ‘package:base’:\n",
      "\n",
      "    intersect, setdiff, setequal, union\n",
      "\n"
     ]
    },
    {
     "data": {
      "text/html": [
       "<table>\n",
       "<thead><tr><th scope=col>class(Percentage)</th><th scope=col>class(Category)</th></tr></thead>\n",
       "<tbody>\n",
       "\t<tr><td>numeric  </td><td>character</td></tr>\n",
       "</tbody>\n",
       "</table>\n"
      ],
      "text/latex": [
       "\\begin{tabular}{r|ll}\n",
       " class(Percentage) & class(Category)\\\\\n",
       "\\hline\n",
       "\t numeric   & character\\\\\n",
       "\\end{tabular}\n"
      ],
      "text/markdown": [
       "\n",
       "| class(Percentage) | class(Category) |\n",
       "|---|---|\n",
       "| numeric   | character |\n",
       "\n"
      ],
      "text/plain": [
       "  class(Percentage) class(Category)\n",
       "1 numeric           character      "
      ]
     },
     "metadata": {},
     "output_type": "display_data"
    }
   ],
   "source": [
    "library(dplyr)\n",
    "\n",
    "summarize(grading_rule, class(Percentage), class(Category))"
   ]
  },
  {
   "cell_type": "markdown",
   "metadata": {},
   "source": [
    "### The grade category and column names\n",
    "\n",
    "* Later in this notebook, we will have to assign appropriate grade categories to the gradebook columns containig students' grades. This will be done with the help of regular expressions -- we will search the list of the gradebook column names for matches with the names of the grade categories. In order for this procedure to work smoothly, you will need to follow a few simple rules for naming of the grade categories and the gradebook columns. \n",
    "\n",
    "    * The category names should be capitalized to minimize the probabily of incorrent matches. Examples: *HW*, *Test 1*, *Quizzes*.\n",
    "    \n",
    "    * The names of the gradebook columns containig students's grades must begin with the names of the corresponding grade categories. For example, if you have two columns that belong to a single grade category *HW*, a good choice of the names for these columns would be *HW 1* and *HW 2*. Note that *HW1* and *HW2* or *HW_1* and *HW_2* should work just fine but not *Homework 1* and *Homework 2*. If you have a single column that belong to a single grade category, say, *Final*, some good choices of the name for the column are *Final Exam*, *Final_Exam*, or simply *Final*.\n",
    "        \n",
    "* The gradebook file will be stored in an R data frame. In R, the column names of data frames cannot include space characters -- in the process of reading the gradebook CSV file and converting it into a data frame, all space characters in the column names will be replaced by dots. To make it easier to work with these names in the future, it makes sense to do the exact same replacement in the grade category names stored in the *Category* column of the `grading_rule` data frame:"
   ]
  },
  {
   "cell_type": "code",
   "execution_count": 4,
   "metadata": {},
   "outputs": [
    {
     "data": {
      "text/html": [
       "<table>\n",
       "<thead><tr><th scope=col>Category</th><th scope=col>Percentage</th></tr></thead>\n",
       "<tbody>\n",
       "\t<tr><td>HW      </td><td> 5      </td></tr>\n",
       "\t<tr><td>Quiz    </td><td>20      </td></tr>\n",
       "\t<tr><td>Test.1  </td><td>25      </td></tr>\n",
       "\t<tr><td>Test.2  </td><td>25      </td></tr>\n",
       "\t<tr><td>Final   </td><td>25      </td></tr>\n",
       "\t<tr><td>Absences</td><td> 0      </td></tr>\n",
       "</tbody>\n",
       "</table>\n"
      ],
      "text/latex": [
       "\\begin{tabular}{r|ll}\n",
       " Category & Percentage\\\\\n",
       "\\hline\n",
       "\t HW       &  5      \\\\\n",
       "\t Quiz     & 20      \\\\\n",
       "\t Test.1   & 25      \\\\\n",
       "\t Test.2   & 25      \\\\\n",
       "\t Final    & 25      \\\\\n",
       "\t Absences &  0      \\\\\n",
       "\\end{tabular}\n"
      ],
      "text/markdown": [
       "\n",
       "| Category | Percentage |\n",
       "|---|---|\n",
       "| HW       |  5       |\n",
       "| Quiz     | 20       |\n",
       "| Test.1   | 25       |\n",
       "| Test.2   | 25       |\n",
       "| Final    | 25       |\n",
       "| Absences |  0       |\n",
       "\n"
      ],
      "text/plain": [
       "  Category Percentage\n",
       "1 HW        5        \n",
       "2 Quiz     20        \n",
       "3 Test.1   25        \n",
       "4 Test.2   25        \n",
       "5 Final    25        \n",
       "6 Absences  0        "
      ]
     },
     "metadata": {},
     "output_type": "display_data"
    }
   ],
   "source": [
    "library(stringr)\n",
    "\n",
    "(grading_rule <- mutate(grading_rule, Category = str_replace_all(str_trim(Category), \" \", \".\")))"
   ]
  },
  {
   "cell_type": "markdown",
   "metadata": {},
   "source": [
    "### The weights of the grade categories\n",
    "\n",
    "Of course, the weights (or percentages) of all grade categories must add up to 100%. Let's do a quick check:"
   ]
  },
  {
   "cell_type": "code",
   "execution_count": 5,
   "metadata": {},
   "outputs": [
    {
     "data": {
      "text/html": [
       "100"
      ],
      "text/latex": [
       "100"
      ],
      "text/markdown": [
       "100"
      ],
      "text/plain": [
       "[1] 100"
      ]
     },
     "metadata": {},
     "output_type": "display_data"
    }
   ],
   "source": [
    "sum(grading_rule$Percentage)"
   ]
  },
  {
   "cell_type": "markdown",
   "metadata": {},
   "source": [
    "## Reading the data\n",
    "\n",
    "We will use the standard R `read.csv` function to read the gradebook file:"
   ]
  },
  {
   "cell_type": "code",
   "execution_count": 6,
   "metadata": {},
   "outputs": [],
   "source": [
    "grades <- read.csv(path)"
   ]
  },
  {
   "cell_type": "markdown",
   "metadata": {},
   "source": [
    "The gradebook file is now stored in a data frame called `grades`. Taking a peek at the first six rows:"
   ]
  },
  {
   "cell_type": "code",
   "execution_count": 7,
   "metadata": {},
   "outputs": [
    {
     "data": {
      "text/html": [
       "<table>\n",
       "<thead><tr><th scope=col>Last.Name</th><th scope=col>First.Name</th><th scope=col>Username</th><th scope=col>Student.ID</th><th scope=col>Last.Access</th><th scope=col>Availability</th><th scope=col>Absences..Total.Pts..1.Score...52146</th><th scope=col>Weighted.Total..Total.Pts..up.to.11.15.Percentage...43356</th><th scope=col>Quiz.1..Total.Pts..10.Score...51772</th><th scope=col>Quiz.2..Total.Pts..15.Score...52030</th><th scope=col>HW.1..Total.Pts..3.Score...51289</th><th scope=col>HW.2..Total.Pts..6.Score...51470</th><th scope=col>HW.3..Total.Pts..7.Score...51771</th><th scope=col>HW.4..Total.Pts..7.Score...52031</th></tr></thead>\n",
       "<tbody>\n",
       "\t<tr><td>Last_name_1        </td><td>First_name_1       </td><td>username_1         </td><td>1                  </td><td>2019-02-14 17:57:00</td><td>Yes                </td><td>NA                 </td><td>100.0              </td><td>10                 </td><td>15                 </td><td>3                  </td><td>6                  </td><td>7                  </td><td>7                  </td></tr>\n",
       "\t<tr><td>Last_name_2        </td><td>First_name_2       </td><td>username_2         </td><td>2                  </td><td>2019-02-14 13:57:57</td><td>Yes                </td><td>NA                 </td><td>100.0              </td><td>10                 </td><td>15                 </td><td>3                  </td><td>6                  </td><td>7                  </td><td>7                  </td></tr>\n",
       "\t<tr><td>Last_name_3        </td><td>First_name_3       </td><td>username_3         </td><td>3                  </td><td>2019-02-18 16:48:58</td><td>Yes                </td><td>NA                 </td><td>100.0              </td><td>10                 </td><td>15                 </td><td>3                  </td><td>6                  </td><td>7                  </td><td>7                  </td></tr>\n",
       "\t<tr><td>Last_name_4        </td><td>First_name_4       </td><td>username_4         </td><td>4                  </td><td>2019-02-18 16:32:01</td><td>Yes                </td><td>NA                 </td><td> 96.8              </td><td> 9                 </td><td>15                 </td><td>3                  </td><td>6                  </td><td>7                  </td><td>7                  </td></tr>\n",
       "\t<tr><td>Last_name_5        </td><td>First_name_5       </td><td>username_5         </td><td>5                  </td><td>2019-02-18 15:06:58</td><td>Yes                </td><td>NA                 </td><td>100.0              </td><td>10                 </td><td>15                 </td><td>3                  </td><td>6                  </td><td>7                  </td><td>7                  </td></tr>\n",
       "\t<tr><td>Last_name_6        </td><td>First_name_6       </td><td>username_6         </td><td>6                  </td><td>2019-02-18 10:31:01</td><td>Yes                </td><td>NA                 </td><td> 90.4              </td><td> 7                 </td><td>15                 </td><td>3                  </td><td>6                  </td><td>7                  </td><td>7                  </td></tr>\n",
       "</tbody>\n",
       "</table>\n"
      ],
      "text/latex": [
       "\\begin{tabular}{r|llllllllllllll}\n",
       " Last.Name & First.Name & Username & Student.ID & Last.Access & Availability & Absences..Total.Pts..1.Score...52146 & Weighted.Total..Total.Pts..up.to.11.15.Percentage...43356 & Quiz.1..Total.Pts..10.Score...51772 & Quiz.2..Total.Pts..15.Score...52030 & HW.1..Total.Pts..3.Score...51289 & HW.2..Total.Pts..6.Score...51470 & HW.3..Total.Pts..7.Score...51771 & HW.4..Total.Pts..7.Score...52031\\\\\n",
       "\\hline\n",
       "\t Last\\_name\\_1     & First\\_name\\_1    & username\\_1        & 1                   & 2019-02-14 17:57:00 & Yes                 & NA                  & 100.0               & 10                  & 15                  & 3                   & 6                   & 7                   & 7                  \\\\\n",
       "\t Last\\_name\\_2     & First\\_name\\_2    & username\\_2        & 2                   & 2019-02-14 13:57:57 & Yes                 & NA                  & 100.0               & 10                  & 15                  & 3                   & 6                   & 7                   & 7                  \\\\\n",
       "\t Last\\_name\\_3     & First\\_name\\_3    & username\\_3        & 3                   & 2019-02-18 16:48:58 & Yes                 & NA                  & 100.0               & 10                  & 15                  & 3                   & 6                   & 7                   & 7                  \\\\\n",
       "\t Last\\_name\\_4     & First\\_name\\_4    & username\\_4        & 4                   & 2019-02-18 16:32:01 & Yes                 & NA                  &  96.8               &  9                  & 15                  & 3                   & 6                   & 7                   & 7                  \\\\\n",
       "\t Last\\_name\\_5     & First\\_name\\_5    & username\\_5        & 5                   & 2019-02-18 15:06:58 & Yes                 & NA                  & 100.0               & 10                  & 15                  & 3                   & 6                   & 7                   & 7                  \\\\\n",
       "\t Last\\_name\\_6     & First\\_name\\_6    & username\\_6        & 6                   & 2019-02-18 10:31:01 & Yes                 & NA                  &  90.4               &  7                  & 15                  & 3                   & 6                   & 7                   & 7                  \\\\\n",
       "\\end{tabular}\n"
      ],
      "text/markdown": [
       "\n",
       "| Last.Name | First.Name | Username | Student.ID | Last.Access | Availability | Absences..Total.Pts..1.Score...52146 | Weighted.Total..Total.Pts..up.to.11.15.Percentage...43356 | Quiz.1..Total.Pts..10.Score...51772 | Quiz.2..Total.Pts..15.Score...52030 | HW.1..Total.Pts..3.Score...51289 | HW.2..Total.Pts..6.Score...51470 | HW.3..Total.Pts..7.Score...51771 | HW.4..Total.Pts..7.Score...52031 |\n",
       "|---|---|---|---|---|---|---|---|---|---|---|---|---|---|\n",
       "| Last_name_1         | First_name_1        | username_1          | 1                   | 2019-02-14 17:57:00 | Yes                 | NA                  | 100.0               | 10                  | 15                  | 3                   | 6                   | 7                   | 7                   |\n",
       "| Last_name_2         | First_name_2        | username_2          | 2                   | 2019-02-14 13:57:57 | Yes                 | NA                  | 100.0               | 10                  | 15                  | 3                   | 6                   | 7                   | 7                   |\n",
       "| Last_name_3         | First_name_3        | username_3          | 3                   | 2019-02-18 16:48:58 | Yes                 | NA                  | 100.0               | 10                  | 15                  | 3                   | 6                   | 7                   | 7                   |\n",
       "| Last_name_4         | First_name_4        | username_4          | 4                   | 2019-02-18 16:32:01 | Yes                 | NA                  |  96.8               |  9                  | 15                  | 3                   | 6                   | 7                   | 7                   |\n",
       "| Last_name_5         | First_name_5        | username_5          | 5                   | 2019-02-18 15:06:58 | Yes                 | NA                  | 100.0               | 10                  | 15                  | 3                   | 6                   | 7                   | 7                   |\n",
       "| Last_name_6         | First_name_6        | username_6          | 6                   | 2019-02-18 10:31:01 | Yes                 | NA                  |  90.4               |  7                  | 15                  | 3                   | 6                   | 7                   | 7                   |\n",
       "\n"
      ],
      "text/plain": [
       "  Last.Name   First.Name   Username   Student.ID Last.Access        \n",
       "1 Last_name_1 First_name_1 username_1 1          2019-02-14 17:57:00\n",
       "2 Last_name_2 First_name_2 username_2 2          2019-02-14 13:57:57\n",
       "3 Last_name_3 First_name_3 username_3 3          2019-02-18 16:48:58\n",
       "4 Last_name_4 First_name_4 username_4 4          2019-02-18 16:32:01\n",
       "5 Last_name_5 First_name_5 username_5 5          2019-02-18 15:06:58\n",
       "6 Last_name_6 First_name_6 username_6 6          2019-02-18 10:31:01\n",
       "  Availability Absences..Total.Pts..1.Score...52146\n",
       "1 Yes          NA                                  \n",
       "2 Yes          NA                                  \n",
       "3 Yes          NA                                  \n",
       "4 Yes          NA                                  \n",
       "5 Yes          NA                                  \n",
       "6 Yes          NA                                  \n",
       "  Weighted.Total..Total.Pts..up.to.11.15.Percentage...43356\n",
       "1 100.0                                                    \n",
       "2 100.0                                                    \n",
       "3 100.0                                                    \n",
       "4  96.8                                                    \n",
       "5 100.0                                                    \n",
       "6  90.4                                                    \n",
       "  Quiz.1..Total.Pts..10.Score...51772 Quiz.2..Total.Pts..15.Score...52030\n",
       "1 10                                  15                                 \n",
       "2 10                                  15                                 \n",
       "3 10                                  15                                 \n",
       "4  9                                  15                                 \n",
       "5 10                                  15                                 \n",
       "6  7                                  15                                 \n",
       "  HW.1..Total.Pts..3.Score...51289 HW.2..Total.Pts..6.Score...51470\n",
       "1 3                                6                               \n",
       "2 3                                6                               \n",
       "3 3                                6                               \n",
       "4 3                                6                               \n",
       "5 3                                6                               \n",
       "6 3                                6                               \n",
       "  HW.3..Total.Pts..7.Score...51771 HW.4..Total.Pts..7.Score...52031\n",
       "1 7                                7                               \n",
       "2 7                                7                               \n",
       "3 7                                7                               \n",
       "4 7                                7                               \n",
       "5 7                                7                               \n",
       "6 7                                7                               "
      ]
     },
     "metadata": {},
     "output_type": "display_data"
    }
   ],
   "source": [
    "head(grades)"
   ]
  },
  {
   "cell_type": "markdown",
   "metadata": {},
   "source": [
    "We will store the column names of the data frame `grades` in the variable `col`:"
   ]
  },
  {
   "cell_type": "code",
   "execution_count": 8,
   "metadata": {},
   "outputs": [
    {
     "name": "stdout",
     "output_type": "stream",
     "text": [
      " [1] \"Last.Name\"                                                \n",
      " [2] \"First.Name\"                                               \n",
      " [3] \"Username\"                                                 \n",
      " [4] \"Student.ID\"                                               \n",
      " [5] \"Last.Access\"                                              \n",
      " [6] \"Availability\"                                             \n",
      " [7] \"Absences..Total.Pts..1.Score...52146\"                     \n",
      " [8] \"Weighted.Total..Total.Pts..up.to.11.15.Percentage...43356\"\n",
      " [9] \"Quiz.1..Total.Pts..10.Score...51772\"                      \n",
      "[10] \"Quiz.2..Total.Pts..15.Score...52030\"                      \n",
      "[11] \"HW.1..Total.Pts..3.Score...51289\"                         \n",
      "[12] \"HW.2..Total.Pts..6.Score...51470\"                         \n",
      "[13] \"HW.3..Total.Pts..7.Score...51771\"                         \n",
      "[14] \"HW.4..Total.Pts..7.Score...52031\"                         \n"
     ]
    }
   ],
   "source": [
    "col <- names(grades)\n",
    "print(col)"
   ]
  },
  {
   "cell_type": "markdown",
   "metadata": {},
   "source": [
    "## Processing the gradebook data\n",
    "\n",
    "### Extracting maximum grades\n",
    "\n",
    "In general, you should see that some of the columns contain students' grades for various types of assignments (tests, quizzes, homework, etc.); some other columns contain information about the students: their first and last names, usernames, student IDs, etc. In what follows, we will call the former *grade columns* and the latter *information columns*. Also, note that there is a columns containg information about students' weighted totals. We will treat it as a standalone column -- it is neither grade nor information column.\n",
    "\n",
    "To compute the students' percentages, we will need to know the maximum grade the students could have received for each assignment. The maximum grades are embedded in the names of the grade columns -- note that each name of such a column contains a number following the *..Total.Pts..* part of the name. This number represents the maximum grade that we will need to extract. The extraction can be done with the help of the regular expressions syntax, as follows:"
   ]
  },
  {
   "cell_type": "code",
   "execution_count": 9,
   "metadata": {},
   "outputs": [
    {
     "data": {
      "text/html": [
       "<ol class=list-inline>\n",
       "\t<li>'Last.Name'</li>\n",
       "\t<li>'First.Name'</li>\n",
       "\t<li>'Username'</li>\n",
       "\t<li>'Student.ID'</li>\n",
       "\t<li>'Last.Access'</li>\n",
       "\t<li>'Availability'</li>\n",
       "\t<li>'1'</li>\n",
       "\t<li>''</li>\n",
       "\t<li>'10'</li>\n",
       "\t<li>'15'</li>\n",
       "\t<li>'3'</li>\n",
       "\t<li>'6'</li>\n",
       "\t<li>'7'</li>\n",
       "\t<li>'7'</li>\n",
       "</ol>\n"
      ],
      "text/latex": [
       "\\begin{enumerate*}\n",
       "\\item 'Last.Name'\n",
       "\\item 'First.Name'\n",
       "\\item 'Username'\n",
       "\\item 'Student.ID'\n",
       "\\item 'Last.Access'\n",
       "\\item 'Availability'\n",
       "\\item '1'\n",
       "\\item ''\n",
       "\\item '10'\n",
       "\\item '15'\n",
       "\\item '3'\n",
       "\\item '6'\n",
       "\\item '7'\n",
       "\\item '7'\n",
       "\\end{enumerate*}\n"
      ],
      "text/markdown": [
       "1. 'Last.Name'\n",
       "2. 'First.Name'\n",
       "3. 'Username'\n",
       "4. 'Student.ID'\n",
       "5. 'Last.Access'\n",
       "6. 'Availability'\n",
       "7. '1'\n",
       "8. ''\n",
       "9. '10'\n",
       "10. '15'\n",
       "11. '3'\n",
       "12. '6'\n",
       "13. '7'\n",
       "14. '7'\n",
       "\n",
       "\n"
      ],
      "text/plain": [
       " [1] \"Last.Name\"    \"First.Name\"   \"Username\"     \"Student.ID\"   \"Last.Access\" \n",
       " [6] \"Availability\" \"1\"            \"\"             \"10\"           \"15\"          \n",
       "[11] \"3\"            \"6\"            \"7\"            \"7\"           "
      ]
     },
     "metadata": {},
     "output_type": "display_data"
    }
   ],
   "source": [
    "(max <- str_replace(col, \"^.*Total\\\\.Pts\\\\.\\\\.([:digit:]*).*\", \"\\\\1\"))"
   ]
  },
  {
   "cell_type": "markdown",
   "metadata": {},
   "source": [
    "Obviously, at this stage `max` contains the maximum grades of the grade columns, the names of the information columns, and an empty string extracted from the column of weighted totals. This needs to be cleaned up. To do that, we must indentify the grade columns first. Recall that the names of the grade columns must begin with the name of one of the grade category stored in the *Category* column of `grading_rule`. This observation and the `str_detect` function of the `stringr` package will help us to detect these columns."
   ]
  },
  {
   "cell_type": "code",
   "execution_count": 10,
   "metadata": {},
   "outputs": [
    {
     "data": {
      "text/html": [
       "<ol>\n",
       "\t<li><ol class=list-inline>\n",
       "\t<li>11</li>\n",
       "\t<li>12</li>\n",
       "\t<li>13</li>\n",
       "\t<li>14</li>\n",
       "</ol>\n",
       "</li>\n",
       "\t<li><ol class=list-inline>\n",
       "\t<li>9</li>\n",
       "\t<li>10</li>\n",
       "</ol>\n",
       "</li>\n",
       "\t<li></li>\n",
       "\t<li></li>\n",
       "\t<li></li>\n",
       "\t<li>7</li>\n",
       "</ol>\n"
      ],
      "text/latex": [
       "\\begin{enumerate}\n",
       "\\item \\begin{enumerate*}\n",
       "\\item 11\n",
       "\\item 12\n",
       "\\item 13\n",
       "\\item 14\n",
       "\\end{enumerate*}\n",
       "\n",
       "\\item \\begin{enumerate*}\n",
       "\\item 9\n",
       "\\item 10\n",
       "\\end{enumerate*}\n",
       "\n",
       "\\item \n",
       "\\item \n",
       "\\item \n",
       "\\item 7\n",
       "\\end{enumerate}\n"
      ],
      "text/markdown": [
       "1. 1. 11\n",
       "2. 12\n",
       "3. 13\n",
       "4. 14\n",
       "\n",
       "\n",
       "\n",
       "2. 1. 9\n",
       "2. 10\n",
       "\n",
       "\n",
       "\n",
       "3. \n",
       "4. \n",
       "5. \n",
       "6. 7\n",
       "\n",
       "\n"
      ],
      "text/plain": [
       "[[1]]\n",
       "[1] 11 12 13 14\n",
       "\n",
       "[[2]]\n",
       "[1]  9 10\n",
       "\n",
       "[[3]]\n",
       "integer(0)\n",
       "\n",
       "[[4]]\n",
       "integer(0)\n",
       "\n",
       "[[5]]\n",
       "integer(0)\n",
       "\n",
       "[[6]]\n",
       "[1] 7\n"
      ]
     },
     "metadata": {},
     "output_type": "display_data"
    }
   ],
   "source": [
    "(grades_columns <- lapply(grading_rule$Category, \n",
    "                         function(x){which(str_detect(names(grades), paste(\"^\", x, sep='')))}))"
   ]
  },
  {
   "cell_type": "code",
   "execution_count": 11,
   "metadata": {},
   "outputs": [
    {
     "data": {
      "text/html": [
       "<ol class=list-inline>\n",
       "\t<li>7</li>\n",
       "\t<li>9</li>\n",
       "\t<li>10</li>\n",
       "\t<li>11</li>\n",
       "\t<li>12</li>\n",
       "\t<li>13</li>\n",
       "\t<li>14</li>\n",
       "</ol>\n"
      ],
      "text/latex": [
       "\\begin{enumerate*}\n",
       "\\item 7\n",
       "\\item 9\n",
       "\\item 10\n",
       "\\item 11\n",
       "\\item 12\n",
       "\\item 13\n",
       "\\item 14\n",
       "\\end{enumerate*}\n"
      ],
      "text/markdown": [
       "1. 7\n",
       "2. 9\n",
       "3. 10\n",
       "4. 11\n",
       "5. 12\n",
       "6. 13\n",
       "7. 14\n",
       "\n",
       "\n"
      ],
      "text/plain": [
       "[1]  7  9 10 11 12 13 14"
      ]
     },
     "metadata": {},
     "output_type": "display_data"
    }
   ],
   "source": [
    "(grades_columns <- sort(unlist(grades_columns)))"
   ]
  },
  {
   "cell_type": "markdown",
   "metadata": {},
   "source": [
    "Now we can select the maximum grades of the grade columns from `max`:"
   ]
  },
  {
   "cell_type": "code",
   "execution_count": 12,
   "metadata": {},
   "outputs": [
    {
     "data": {
      "text/html": [
       "<ol class=list-inline>\n",
       "\t<li>'1'</li>\n",
       "\t<li>'10'</li>\n",
       "\t<li>'15'</li>\n",
       "\t<li>'3'</li>\n",
       "\t<li>'6'</li>\n",
       "\t<li>'7'</li>\n",
       "\t<li>'7'</li>\n",
       "</ol>\n"
      ],
      "text/latex": [
       "\\begin{enumerate*}\n",
       "\\item '1'\n",
       "\\item '10'\n",
       "\\item '15'\n",
       "\\item '3'\n",
       "\\item '6'\n",
       "\\item '7'\n",
       "\\item '7'\n",
       "\\end{enumerate*}\n"
      ],
      "text/markdown": [
       "1. '1'\n",
       "2. '10'\n",
       "3. '15'\n",
       "4. '3'\n",
       "5. '6'\n",
       "6. '7'\n",
       "7. '7'\n",
       "\n",
       "\n"
      ],
      "text/plain": [
       "[1] \"1\"  \"10\" \"15\" \"3\"  \"6\"  \"7\"  \"7\" "
      ]
     },
     "metadata": {},
     "output_type": "display_data"
    }
   ],
   "source": [
    "(max <- max[grades_columns])"
   ]
  },
  {
   "cell_type": "markdown",
   "metadata": {},
   "source": [
    "### Identifying categories for the grade columns\n",
    "\n",
    "Different assignments listed in the gradebook correspond to different grade categories. For instance, the columns named *HW_1*, *HW_2*, *HW_3*, etc. clearly belong to the HW grade category. It would be helpful to have a vector that would show the grade categories for all grade columns. Let's make such a vector. The first step is to make an axiluary list of vectors called `category` which looks like this:"
   ]
  },
  {
   "cell_type": "code",
   "execution_count": 13,
   "metadata": {},
   "outputs": [
    {
     "data": {
      "text/html": [
       "<ol>\n",
       "\t<li><ol class=list-inline>\n",
       "\t<li>''</li>\n",
       "\t<li>''</li>\n",
       "\t<li>''</li>\n",
       "\t<li>''</li>\n",
       "\t<li>''</li>\n",
       "\t<li>''</li>\n",
       "\t<li>''</li>\n",
       "\t<li>''</li>\n",
       "\t<li>''</li>\n",
       "\t<li>''</li>\n",
       "\t<li>'HW'</li>\n",
       "\t<li>'HW'</li>\n",
       "\t<li>'HW'</li>\n",
       "\t<li>'HW'</li>\n",
       "</ol>\n",
       "</li>\n",
       "\t<li><ol class=list-inline>\n",
       "\t<li>''</li>\n",
       "\t<li>''</li>\n",
       "\t<li>''</li>\n",
       "\t<li>''</li>\n",
       "\t<li>''</li>\n",
       "\t<li>''</li>\n",
       "\t<li>''</li>\n",
       "\t<li>''</li>\n",
       "\t<li>'Quiz'</li>\n",
       "\t<li>'Quiz'</li>\n",
       "\t<li>''</li>\n",
       "\t<li>''</li>\n",
       "\t<li>''</li>\n",
       "\t<li>''</li>\n",
       "</ol>\n",
       "</li>\n",
       "\t<li><ol class=list-inline>\n",
       "\t<li>''</li>\n",
       "\t<li>''</li>\n",
       "\t<li>''</li>\n",
       "\t<li>''</li>\n",
       "\t<li>''</li>\n",
       "\t<li>''</li>\n",
       "\t<li>''</li>\n",
       "\t<li>''</li>\n",
       "\t<li>''</li>\n",
       "\t<li>''</li>\n",
       "\t<li>''</li>\n",
       "\t<li>''</li>\n",
       "\t<li>''</li>\n",
       "\t<li>''</li>\n",
       "</ol>\n",
       "</li>\n",
       "\t<li><ol class=list-inline>\n",
       "\t<li>''</li>\n",
       "\t<li>''</li>\n",
       "\t<li>''</li>\n",
       "\t<li>''</li>\n",
       "\t<li>''</li>\n",
       "\t<li>''</li>\n",
       "\t<li>''</li>\n",
       "\t<li>''</li>\n",
       "\t<li>''</li>\n",
       "\t<li>''</li>\n",
       "\t<li>''</li>\n",
       "\t<li>''</li>\n",
       "\t<li>''</li>\n",
       "\t<li>''</li>\n",
       "</ol>\n",
       "</li>\n",
       "\t<li><ol class=list-inline>\n",
       "\t<li>''</li>\n",
       "\t<li>''</li>\n",
       "\t<li>''</li>\n",
       "\t<li>''</li>\n",
       "\t<li>''</li>\n",
       "\t<li>''</li>\n",
       "\t<li>''</li>\n",
       "\t<li>''</li>\n",
       "\t<li>''</li>\n",
       "\t<li>''</li>\n",
       "\t<li>''</li>\n",
       "\t<li>''</li>\n",
       "\t<li>''</li>\n",
       "\t<li>''</li>\n",
       "</ol>\n",
       "</li>\n",
       "\t<li><ol class=list-inline>\n",
       "\t<li>''</li>\n",
       "\t<li>''</li>\n",
       "\t<li>''</li>\n",
       "\t<li>''</li>\n",
       "\t<li>''</li>\n",
       "\t<li>''</li>\n",
       "\t<li>'Absences'</li>\n",
       "\t<li>''</li>\n",
       "\t<li>''</li>\n",
       "\t<li>''</li>\n",
       "\t<li>''</li>\n",
       "\t<li>''</li>\n",
       "\t<li>''</li>\n",
       "\t<li>''</li>\n",
       "</ol>\n",
       "</li>\n",
       "</ol>\n"
      ],
      "text/latex": [
       "\\begin{enumerate}\n",
       "\\item \\begin{enumerate*}\n",
       "\\item ''\n",
       "\\item ''\n",
       "\\item ''\n",
       "\\item ''\n",
       "\\item ''\n",
       "\\item ''\n",
       "\\item ''\n",
       "\\item ''\n",
       "\\item ''\n",
       "\\item ''\n",
       "\\item 'HW'\n",
       "\\item 'HW'\n",
       "\\item 'HW'\n",
       "\\item 'HW'\n",
       "\\end{enumerate*}\n",
       "\n",
       "\\item \\begin{enumerate*}\n",
       "\\item ''\n",
       "\\item ''\n",
       "\\item ''\n",
       "\\item ''\n",
       "\\item ''\n",
       "\\item ''\n",
       "\\item ''\n",
       "\\item ''\n",
       "\\item 'Quiz'\n",
       "\\item 'Quiz'\n",
       "\\item ''\n",
       "\\item ''\n",
       "\\item ''\n",
       "\\item ''\n",
       "\\end{enumerate*}\n",
       "\n",
       "\\item \\begin{enumerate*}\n",
       "\\item ''\n",
       "\\item ''\n",
       "\\item ''\n",
       "\\item ''\n",
       "\\item ''\n",
       "\\item ''\n",
       "\\item ''\n",
       "\\item ''\n",
       "\\item ''\n",
       "\\item ''\n",
       "\\item ''\n",
       "\\item ''\n",
       "\\item ''\n",
       "\\item ''\n",
       "\\end{enumerate*}\n",
       "\n",
       "\\item \\begin{enumerate*}\n",
       "\\item ''\n",
       "\\item ''\n",
       "\\item ''\n",
       "\\item ''\n",
       "\\item ''\n",
       "\\item ''\n",
       "\\item ''\n",
       "\\item ''\n",
       "\\item ''\n",
       "\\item ''\n",
       "\\item ''\n",
       "\\item ''\n",
       "\\item ''\n",
       "\\item ''\n",
       "\\end{enumerate*}\n",
       "\n",
       "\\item \\begin{enumerate*}\n",
       "\\item ''\n",
       "\\item ''\n",
       "\\item ''\n",
       "\\item ''\n",
       "\\item ''\n",
       "\\item ''\n",
       "\\item ''\n",
       "\\item ''\n",
       "\\item ''\n",
       "\\item ''\n",
       "\\item ''\n",
       "\\item ''\n",
       "\\item ''\n",
       "\\item ''\n",
       "\\end{enumerate*}\n",
       "\n",
       "\\item \\begin{enumerate*}\n",
       "\\item ''\n",
       "\\item ''\n",
       "\\item ''\n",
       "\\item ''\n",
       "\\item ''\n",
       "\\item ''\n",
       "\\item 'Absences'\n",
       "\\item ''\n",
       "\\item ''\n",
       "\\item ''\n",
       "\\item ''\n",
       "\\item ''\n",
       "\\item ''\n",
       "\\item ''\n",
       "\\end{enumerate*}\n",
       "\n",
       "\\end{enumerate}\n"
      ],
      "text/markdown": [
       "1. 1. ''\n",
       "2. ''\n",
       "3. ''\n",
       "4. ''\n",
       "5. ''\n",
       "6. ''\n",
       "7. ''\n",
       "8. ''\n",
       "9. ''\n",
       "10. ''\n",
       "11. 'HW'\n",
       "12. 'HW'\n",
       "13. 'HW'\n",
       "14. 'HW'\n",
       "\n",
       "\n",
       "\n",
       "2. 1. ''\n",
       "2. ''\n",
       "3. ''\n",
       "4. ''\n",
       "5. ''\n",
       "6. ''\n",
       "7. ''\n",
       "8. ''\n",
       "9. 'Quiz'\n",
       "10. 'Quiz'\n",
       "11. ''\n",
       "12. ''\n",
       "13. ''\n",
       "14. ''\n",
       "\n",
       "\n",
       "\n",
       "3. 1. ''\n",
       "2. ''\n",
       "3. ''\n",
       "4. ''\n",
       "5. ''\n",
       "6. ''\n",
       "7. ''\n",
       "8. ''\n",
       "9. ''\n",
       "10. ''\n",
       "11. ''\n",
       "12. ''\n",
       "13. ''\n",
       "14. ''\n",
       "\n",
       "\n",
       "\n",
       "4. 1. ''\n",
       "2. ''\n",
       "3. ''\n",
       "4. ''\n",
       "5. ''\n",
       "6. ''\n",
       "7. ''\n",
       "8. ''\n",
       "9. ''\n",
       "10. ''\n",
       "11. ''\n",
       "12. ''\n",
       "13. ''\n",
       "14. ''\n",
       "\n",
       "\n",
       "\n",
       "5. 1. ''\n",
       "2. ''\n",
       "3. ''\n",
       "4. ''\n",
       "5. ''\n",
       "6. ''\n",
       "7. ''\n",
       "8. ''\n",
       "9. ''\n",
       "10. ''\n",
       "11. ''\n",
       "12. ''\n",
       "13. ''\n",
       "14. ''\n",
       "\n",
       "\n",
       "\n",
       "6. 1. ''\n",
       "2. ''\n",
       "3. ''\n",
       "4. ''\n",
       "5. ''\n",
       "6. ''\n",
       "7. 'Absences'\n",
       "8. ''\n",
       "9. ''\n",
       "10. ''\n",
       "11. ''\n",
       "12. ''\n",
       "13. ''\n",
       "14. ''\n",
       "\n",
       "\n",
       "\n",
       "\n",
       "\n"
      ],
      "text/plain": [
       "[[1]]\n",
       " [1] \"\"   \"\"   \"\"   \"\"   \"\"   \"\"   \"\"   \"\"   \"\"   \"\"   \"HW\" \"HW\" \"HW\" \"HW\"\n",
       "\n",
       "[[2]]\n",
       " [1] \"\"     \"\"     \"\"     \"\"     \"\"     \"\"     \"\"     \"\"     \"Quiz\" \"Quiz\"\n",
       "[11] \"\"     \"\"     \"\"     \"\"    \n",
       "\n",
       "[[3]]\n",
       " [1] \"\" \"\" \"\" \"\" \"\" \"\" \"\" \"\" \"\" \"\" \"\" \"\" \"\" \"\"\n",
       "\n",
       "[[4]]\n",
       " [1] \"\" \"\" \"\" \"\" \"\" \"\" \"\" \"\" \"\" \"\" \"\" \"\" \"\" \"\"\n",
       "\n",
       "[[5]]\n",
       " [1] \"\" \"\" \"\" \"\" \"\" \"\" \"\" \"\" \"\" \"\" \"\" \"\" \"\" \"\"\n",
       "\n",
       "[[6]]\n",
       " [1] \"\"         \"\"         \"\"         \"\"         \"\"         \"\"        \n",
       " [7] \"Absences\" \"\"         \"\"         \"\"         \"\"         \"\"        \n",
       "[13] \"\"         \"\"        \n"
      ]
     },
     "metadata": {},
     "output_type": "display_data"
    }
   ],
   "source": [
    "(category <- lapply(grading_rule$Category, function(x){ifelse(str_detect(names(grades), \n",
    "                                                   paste(\"^\", x, sep='')), x, \"\")}))"
   ]
  },
  {
   "cell_type": "markdown",
   "metadata": {},
   "source": [
    "The elements of this list correspond to the grade categories stored in the *Category* column of `grading_rule`. Each element is a vector whose length is equal to the total number of the gradebook columns and whose non-empty entries show the positions of the gradebook columns belonging to the corresponding grade category. Some vectors are empty because there are no gradebook columns that belong to this particular grade category. \n",
    "\n",
    "Next, we will concatenate the components of these vectors corresponding to the same gradebook column: "
   ]
  },
  {
   "cell_type": "code",
   "execution_count": 14,
   "metadata": {},
   "outputs": [
    {
     "data": {
      "text/html": [
       "<ol class=list-inline>\n",
       "\t<li>''</li>\n",
       "\t<li>''</li>\n",
       "\t<li>''</li>\n",
       "\t<li>''</li>\n",
       "\t<li>''</li>\n",
       "\t<li>''</li>\n",
       "\t<li>'Absences'</li>\n",
       "\t<li>''</li>\n",
       "\t<li>'Quiz'</li>\n",
       "\t<li>'Quiz'</li>\n",
       "\t<li>'HW'</li>\n",
       "\t<li>'HW'</li>\n",
       "\t<li>'HW'</li>\n",
       "\t<li>'HW'</li>\n",
       "</ol>\n"
      ],
      "text/latex": [
       "\\begin{enumerate*}\n",
       "\\item ''\n",
       "\\item ''\n",
       "\\item ''\n",
       "\\item ''\n",
       "\\item ''\n",
       "\\item ''\n",
       "\\item 'Absences'\n",
       "\\item ''\n",
       "\\item 'Quiz'\n",
       "\\item 'Quiz'\n",
       "\\item 'HW'\n",
       "\\item 'HW'\n",
       "\\item 'HW'\n",
       "\\item 'HW'\n",
       "\\end{enumerate*}\n"
      ],
      "text/markdown": [
       "1. ''\n",
       "2. ''\n",
       "3. ''\n",
       "4. ''\n",
       "5. ''\n",
       "6. ''\n",
       "7. 'Absences'\n",
       "8. ''\n",
       "9. 'Quiz'\n",
       "10. 'Quiz'\n",
       "11. 'HW'\n",
       "12. 'HW'\n",
       "13. 'HW'\n",
       "14. 'HW'\n",
       "\n",
       "\n"
      ],
      "text/plain": [
       " [1] \"\"         \"\"         \"\"         \"\"         \"\"         \"\"        \n",
       " [7] \"Absences\" \"\"         \"Quiz\"     \"Quiz\"     \"HW\"       \"HW\"      \n",
       "[13] \"HW\"       \"HW\"      "
      ]
     },
     "metadata": {},
     "output_type": "display_data"
    }
   ],
   "source": [
    "(category <- apply(as.data.frame(category), 1, paste, collapse = \"\"))"
   ]
  },
  {
   "cell_type": "markdown",
   "metadata": {},
   "source": [
    "We will use `category` later when we will be computing students' percentages. At this point, let's store the grade categories for the columns containing actual grades (as opposed to students' firt and last names, usernames, student ID, etc.) in a new variable called `category_grades`:"
   ]
  },
  {
   "cell_type": "code",
   "execution_count": 15,
   "metadata": {},
   "outputs": [
    {
     "data": {
      "text/html": [
       "<ol class=list-inline>\n",
       "\t<li>'Absences'</li>\n",
       "\t<li>'Quiz'</li>\n",
       "\t<li>'Quiz'</li>\n",
       "\t<li>'HW'</li>\n",
       "\t<li>'HW'</li>\n",
       "\t<li>'HW'</li>\n",
       "\t<li>'HW'</li>\n",
       "</ol>\n"
      ],
      "text/latex": [
       "\\begin{enumerate*}\n",
       "\\item 'Absences'\n",
       "\\item 'Quiz'\n",
       "\\item 'Quiz'\n",
       "\\item 'HW'\n",
       "\\item 'HW'\n",
       "\\item 'HW'\n",
       "\\item 'HW'\n",
       "\\end{enumerate*}\n"
      ],
      "text/markdown": [
       "1. 'Absences'\n",
       "2. 'Quiz'\n",
       "3. 'Quiz'\n",
       "4. 'HW'\n",
       "5. 'HW'\n",
       "6. 'HW'\n",
       "7. 'HW'\n",
       "\n",
       "\n"
      ],
      "text/plain": [
       "[1] \"Absences\" \"Quiz\"     \"Quiz\"     \"HW\"       \"HW\"       \"HW\"       \"HW\"      "
      ]
     },
     "metadata": {},
     "output_type": "display_data"
    }
   ],
   "source": [
    "(category_grades <- category[grades_columns])"
   ]
  },
  {
   "cell_type": "markdown",
   "metadata": {},
   "source": [
    "### Putting together information about the assignments, maximum grades and categories.\n",
    "\n",
    "Finally, let put all information about the maxim grade and grade category for each of the grade column into a single data frame."
   ]
  },
  {
   "cell_type": "code",
   "execution_count": 16,
   "metadata": {},
   "outputs": [
    {
     "data": {
      "text/html": [
       "<table>\n",
       "<thead><tr><th scope=col>Max</th><th scope=col>Category</th><th scope=col>Assignment</th></tr></thead>\n",
       "<tbody>\n",
       "\t<tr><td>1                                   </td><td>Absences                            </td><td>Absences..Total.Pts..1.Score...52146</td></tr>\n",
       "\t<tr><td>10                                  </td><td>Quiz                                </td><td>Quiz.1..Total.Pts..10.Score...51772 </td></tr>\n",
       "\t<tr><td>15                                  </td><td>Quiz                                </td><td>Quiz.2..Total.Pts..15.Score...52030 </td></tr>\n",
       "\t<tr><td>3                                   </td><td>HW                                  </td><td>HW.1..Total.Pts..3.Score...51289    </td></tr>\n",
       "\t<tr><td>6                                   </td><td>HW                                  </td><td>HW.2..Total.Pts..6.Score...51470    </td></tr>\n",
       "\t<tr><td>7                                   </td><td>HW                                  </td><td>HW.3..Total.Pts..7.Score...51771    </td></tr>\n",
       "\t<tr><td>7                                   </td><td>HW                                  </td><td>HW.4..Total.Pts..7.Score...52031    </td></tr>\n",
       "</tbody>\n",
       "</table>\n"
      ],
      "text/latex": [
       "\\begin{tabular}{r|lll}\n",
       " Max & Category & Assignment\\\\\n",
       "\\hline\n",
       "\t 1                                    & Absences                             & Absences..Total.Pts..1.Score...52146\\\\\n",
       "\t 10                                   & Quiz                                 & Quiz.1..Total.Pts..10.Score...51772 \\\\\n",
       "\t 15                                   & Quiz                                 & Quiz.2..Total.Pts..15.Score...52030 \\\\\n",
       "\t 3                                    & HW                                   & HW.1..Total.Pts..3.Score...51289    \\\\\n",
       "\t 6                                    & HW                                   & HW.2..Total.Pts..6.Score...51470    \\\\\n",
       "\t 7                                    & HW                                   & HW.3..Total.Pts..7.Score...51771    \\\\\n",
       "\t 7                                    & HW                                   & HW.4..Total.Pts..7.Score...52031    \\\\\n",
       "\\end{tabular}\n"
      ],
      "text/markdown": [
       "\n",
       "| Max | Category | Assignment |\n",
       "|---|---|---|\n",
       "| 1                                    | Absences                             | Absences..Total.Pts..1.Score...52146 |\n",
       "| 10                                   | Quiz                                 | Quiz.1..Total.Pts..10.Score...51772  |\n",
       "| 15                                   | Quiz                                 | Quiz.2..Total.Pts..15.Score...52030  |\n",
       "| 3                                    | HW                                   | HW.1..Total.Pts..3.Score...51289     |\n",
       "| 6                                    | HW                                   | HW.2..Total.Pts..6.Score...51470     |\n",
       "| 7                                    | HW                                   | HW.3..Total.Pts..7.Score...51771     |\n",
       "| 7                                    | HW                                   | HW.4..Total.Pts..7.Score...52031     |\n",
       "\n"
      ],
      "text/plain": [
       "  Max Category Assignment                          \n",
       "1 1   Absences Absences..Total.Pts..1.Score...52146\n",
       "2 10  Quiz     Quiz.1..Total.Pts..10.Score...51772 \n",
       "3 15  Quiz     Quiz.2..Total.Pts..15.Score...52030 \n",
       "4 3   HW       HW.1..Total.Pts..3.Score...51289    \n",
       "5 6   HW       HW.2..Total.Pts..6.Score...51470    \n",
       "6 7   HW       HW.3..Total.Pts..7.Score...51771    \n",
       "7 7   HW       HW.4..Total.Pts..7.Score...52031    "
      ]
     },
     "metadata": {},
     "output_type": "display_data"
    }
   ],
   "source": [
    "(info <- data.frame(\"Max\" = max, \n",
    "                   \"Category\" = category_grades, \n",
    "                   \"Assignment\" = names(grades)[grades_columns], \n",
    "                   stringsAsFactors = FALSE))"
   ]
  },
  {
   "cell_type": "markdown",
   "metadata": {},
   "source": [
    "A quick inspection of the `info` data frame printed above should convince us that the result makes sense.\n",
    "\n",
    "### Computing the total maximum grade for each category\n",
    "\n",
    "To compute students' percentages, we will need to know the total maximum grade for each grade category -- the sum of all maximum grades for all homework assignments, similar sum for all quizzes, then for all labs, etc. We will store the information about the total maximum grades in a new data frame `total_maximum`:  "
   ]
  },
  {
   "cell_type": "code",
   "execution_count": 17,
   "metadata": {},
   "outputs": [
    {
     "data": {
      "text/html": [
       "<table>\n",
       "<thead><tr><th scope=col>Category</th><th scope=col>Total_Max</th></tr></thead>\n",
       "<tbody>\n",
       "\t<tr><td>Absences</td><td> 1      </td></tr>\n",
       "\t<tr><td>HW      </td><td>23      </td></tr>\n",
       "\t<tr><td>Quiz    </td><td>25      </td></tr>\n",
       "</tbody>\n",
       "</table>\n"
      ],
      "text/latex": [
       "\\begin{tabular}{r|ll}\n",
       " Category & Total\\_Max\\\\\n",
       "\\hline\n",
       "\t Absences &  1      \\\\\n",
       "\t HW       & 23      \\\\\n",
       "\t Quiz     & 25      \\\\\n",
       "\\end{tabular}\n"
      ],
      "text/markdown": [
       "\n",
       "| Category | Total_Max |\n",
       "|---|---|\n",
       "| Absences |  1       |\n",
       "| HW       | 23       |\n",
       "| Quiz     | 25       |\n",
       "\n"
      ],
      "text/plain": [
       "  Category Total_Max\n",
       "1 Absences  1       \n",
       "2 HW       23       \n",
       "3 Quiz     25       "
      ]
     },
     "metadata": {},
     "output_type": "display_data"
    }
   ],
   "source": [
    "(total_maximum <- info %>% \n",
    "                 group_by(Category) %>% \n",
    "                     summarize(Total_Max = sum(as.numeric(Max))))"
   ]
  },
  {
   "cell_type": "markdown",
   "metadata": {},
   "source": [
    "### Handling missing assingments\n",
    "\n",
    "Any missing assignment grade would show up as an `NA` value in the gradebook. To compute the course grades accurately, it is necessary to replace all `NA`'s with zeroes:"
   ]
  },
  {
   "cell_type": "code",
   "execution_count": 18,
   "metadata": {},
   "outputs": [],
   "source": [
    "grades[is.na(grades)] <- 0"
   ]
  },
  {
   "cell_type": "markdown",
   "metadata": {},
   "source": [
    "## Computing students' percentages and grades\n",
    "\n",
    "### Formula\n",
    "\n",
    "Now we are ready to compute the percentages. To do that, we use the following formula: \n",
    "\n",
    "$$\n",
    "\\sum\\limits_{\\text{all categories}}\\text{category weight}\\times\\frac{\\text{total student's grade in this grade category}}{\\text{maximum total grade for this grade category}}\n",
    "$$ \n",
    "\n",
    "### Handling empty grade categories\n",
    "\n",
    "Also, we need to take into account the possibility that if we do this computation in the middle of a semester, some of the categories might not be availalbe to us yet (e.g. *Final*).  To handle this situation, we first need to identify all empty grade categories and then adjust our computation of the percentages appropriently. Let's begin by indentifying the categories that are present in the gradebook."
   ]
  },
  {
   "cell_type": "code",
   "execution_count": 19,
   "metadata": {},
   "outputs": [
    {
     "data": {
      "text/html": [
       "<ol class=list-inline>\n",
       "\t<li>'Absences'</li>\n",
       "\t<li>'Quiz'</li>\n",
       "\t<li>'HW'</li>\n",
       "</ol>\n"
      ],
      "text/latex": [
       "\\begin{enumerate*}\n",
       "\\item 'Absences'\n",
       "\\item 'Quiz'\n",
       "\\item 'HW'\n",
       "\\end{enumerate*}\n"
      ],
      "text/markdown": [
       "1. 'Absences'\n",
       "2. 'Quiz'\n",
       "3. 'HW'\n",
       "\n",
       "\n"
      ],
      "text/plain": [
       "[1] \"Absences\" \"Quiz\"     \"HW\"      "
      ]
     },
     "metadata": {},
     "output_type": "display_data"
    }
   ],
   "source": [
    "(present_categories <- unique(info$Category))"
   ]
  },
  {
   "cell_type": "markdown",
   "metadata": {},
   "source": [
    "The corresponding weights can be selected from the *Percentage* columns of `grading_rule`:"
   ]
  },
  {
   "cell_type": "code",
   "execution_count": 20,
   "metadata": {},
   "outputs": [
    {
     "data": {
      "text/html": [
       "<ol class=list-inline>\n",
       "\t<li>TRUE</li>\n",
       "\t<li>TRUE</li>\n",
       "\t<li>FALSE</li>\n",
       "\t<li>FALSE</li>\n",
       "\t<li>FALSE</li>\n",
       "\t<li>TRUE</li>\n",
       "</ol>\n"
      ],
      "text/latex": [
       "\\begin{enumerate*}\n",
       "\\item TRUE\n",
       "\\item TRUE\n",
       "\\item FALSE\n",
       "\\item FALSE\n",
       "\\item FALSE\n",
       "\\item TRUE\n",
       "\\end{enumerate*}\n"
      ],
      "text/markdown": [
       "1. TRUE\n",
       "2. TRUE\n",
       "3. FALSE\n",
       "4. FALSE\n",
       "5. FALSE\n",
       "6. TRUE\n",
       "\n",
       "\n"
      ],
      "text/plain": [
       "[1]  TRUE  TRUE FALSE FALSE FALSE  TRUE"
      ]
     },
     "metadata": {},
     "output_type": "display_data"
    }
   ],
   "source": [
    "(mask <- grading_rule$Category %in% present_categories)"
   ]
  },
  {
   "cell_type": "code",
   "execution_count": 21,
   "metadata": {},
   "outputs": [
    {
     "data": {
      "text/html": [
       "<ol class=list-inline>\n",
       "\t<li>5</li>\n",
       "\t<li>20</li>\n",
       "\t<li>0</li>\n",
       "</ol>\n"
      ],
      "text/latex": [
       "\\begin{enumerate*}\n",
       "\\item 5\n",
       "\\item 20\n",
       "\\item 0\n",
       "\\end{enumerate*}\n"
      ],
      "text/markdown": [
       "1. 5\n",
       "2. 20\n",
       "3. 0\n",
       "\n",
       "\n"
      ],
      "text/plain": [
       "[1]  5 20  0"
      ]
     },
     "metadata": {},
     "output_type": "display_data"
    }
   ],
   "source": [
    "(present_percentages <- grading_rule$Percentage[mask])"
   ]
  },
  {
   "cell_type": "markdown",
   "metadata": {},
   "source": [
    "The total percentage is"
   ]
  },
  {
   "cell_type": "code",
   "execution_count": 22,
   "metadata": {},
   "outputs": [
    {
     "data": {
      "text/html": [
       "25"
      ],
      "text/latex": [
       "25"
      ],
      "text/markdown": [
       "25"
      ],
      "text/plain": [
       "[1] 25"
      ]
     },
     "metadata": {},
     "output_type": "display_data"
    }
   ],
   "source": [
    "(total_percentage <- sum(present_percentages))"
   ]
  },
  {
   "cell_type": "markdown",
   "metadata": {},
   "source": [
    "To account for the fact that not all categories are present, we have to renormalize the computed percentage. This can be done by multiplying all computed percentages by an adjustment factor of `100/total_percentage`."
   ]
  },
  {
   "cell_type": "code",
   "execution_count": 23,
   "metadata": {},
   "outputs": [
    {
     "data": {
      "text/html": [
       "4"
      ],
      "text/latex": [
       "4"
      ],
      "text/markdown": [
       "4"
      ],
      "text/plain": [
       "[1] 4"
      ]
     },
     "metadata": {},
     "output_type": "display_data"
    }
   ],
   "source": [
    "(adjustment_factor <- 100/total_percentage)"
   ]
  },
  {
   "cell_type": "markdown",
   "metadata": {},
   "source": [
    "Of course, there are other ways to estimate the middle of the semester percentages -- here we are just following the procedure adopted by Blackboard.\n",
    "\n",
    "### Computing the percentages\n",
    "\n",
    "Now, let's compute the students' current percentages using the formula and the adjustment factor given above."
   ]
  },
  {
   "cell_type": "code",
   "execution_count": 24,
   "metadata": {},
   "outputs": [],
   "source": [
    "grades$Percentage <- 0\n",
    "\n",
    "for (cat in present_categories){\n",
    "    w <- grading_rule$Percentage[grading_rule$Category == cat]\n",
    "    mask <- (category == cat)\n",
    "    if (sum(mask) < 2) {\n",
    "    result <- grades[ , mask]\n",
    "    } else {\n",
    "    result <- rowSums(grades[ , mask])\n",
    "    }\n",
    "    m <- total_maximum$Total_Max[(total_maximum$Category == cat)]\n",
    "    grades$Percentage <- grades$Percentage + w*result/m\n",
    "}\n",
    "\n",
    "grades$Percentage <- adjustment_factor*grades$Percentage"
   ]
  },
  {
   "cell_type": "markdown",
   "metadata": {},
   "source": [
    "### A custom-made rounding function\n",
    "\n",
    "According to my syllabus, the computed percentages must be rounded to the nearest integer number. Normally, when we do rounding we follow the following simple rule: if the number you are rounding is followed by 5, 6, 7, 8, or 9, round the number up. Example: 66.5 rounded to the nearest integer is 67. If the number you are rounding is followed by 0, 1, 2, 3, or 4, round the number down. Example: 66.3 rounded to the nearest integer is 66. Unfortunately, the standard rounding function available in R (`round`) follows the so-called IEC 60559 standard (see also IEEE 754). According to this standard, when the number you are rounding is followed by 5 you are supposed to round it to the nearest even digit rather than up. Example:"
   ]
  },
  {
   "cell_type": "code",
   "execution_count": 25,
   "metadata": {},
   "outputs": [
    {
     "data": {
      "text/html": [
       "84"
      ],
      "text/latex": [
       "84"
      ],
      "text/markdown": [
       "84"
      ],
      "text/plain": [
       "[1] 84"
      ]
     },
     "metadata": {},
     "output_type": "display_data"
    },
    {
     "data": {
      "text/html": [
       "84"
      ],
      "text/latex": [
       "84"
      ],
      "text/markdown": [
       "84"
      ],
      "text/plain": [
       "[1] 84"
      ]
     },
     "metadata": {},
     "output_type": "display_data"
    }
   ],
   "source": [
    "round(84.5)\n",
    "round(83.5)"
   ]
  },
  {
   "cell_type": "markdown",
   "metadata": {},
   "source": [
    "I have chosen not to apply this standard in my classes. Instead, I prefere to follow the more traditional rounding rule described above and need to develop a custom rounding function for implementing this rule. I will call this function `round2` and here is how it is defined:"
   ]
  },
  {
   "cell_type": "code",
   "execution_count": 26,
   "metadata": {},
   "outputs": [],
   "source": [
    "round2 = function(x, n = 0) {\n",
    "    posneg = sign(x)\n",
    "    z = abs(x)*10^n\n",
    "    z = z + 0.5\n",
    "    z = trunc(z)\n",
    "    z = z/10^n\n",
    "    z*posneg\n",
    "}"
   ]
  },
  {
   "cell_type": "markdown",
   "metadata": {},
   "source": [
    "And this is how it works:"
   ]
  },
  {
   "cell_type": "code",
   "execution_count": 27,
   "metadata": {},
   "outputs": [
    {
     "data": {
      "text/html": [
       "85"
      ],
      "text/latex": [
       "85"
      ],
      "text/markdown": [
       "85"
      ],
      "text/plain": [
       "[1] 85"
      ]
     },
     "metadata": {},
     "output_type": "display_data"
    },
    {
     "data": {
      "text/html": [
       "84"
      ],
      "text/latex": [
       "84"
      ],
      "text/markdown": [
       "84"
      ],
      "text/plain": [
       "[1] 84"
      ]
     },
     "metadata": {},
     "output_type": "display_data"
    }
   ],
   "source": [
    "round2(84.5)\n",
    "round2(83.5)"
   ]
  },
  {
   "cell_type": "markdown",
   "metadata": {},
   "source": [
    "which is exactly what I want."
   ]
  },
  {
   "cell_type": "markdown",
   "metadata": {},
   "source": [
    "### Computing the grades\n",
    "\n",
    "Computing the final grade using the grading scheme from the syllabus:"
   ]
  },
  {
   "cell_type": "code",
   "execution_count": 28,
   "metadata": {},
   "outputs": [],
   "source": [
    "for (i in 1:nrow(grades)){\n",
    "        perc <- grades$Percentage[i]\n",
    "        perc <- round2(perc)\n",
    "        if ((perc >= 92)&(perc <= 100)){\n",
    "            grades$Grade[i] <- \"A\"\n",
    "        }\n",
    "        if ((perc >= 89)&(perc < 92)){\n",
    "            grades$Grade[i] <- \"A-\"\n",
    "        }\n",
    "        if ((perc >= 86)&(perc < 89)){\n",
    "            grades$Grade[i] <- \"B+\"\n",
    "        }\n",
    "        if ((perc >= 82)&(perc < 86)){\n",
    "            grades$Grade[i] <- \"B\"\n",
    "        }\n",
    "        if ((perc >= 79)&(perc < 82)){\n",
    "            grades$Grade[i] <- \"B-\"\n",
    "        }\n",
    "        if ((perc >= 76)&(perc < 79)){\n",
    "            grades$Grade[i] <- \"C+\"\n",
    "        }\n",
    "        if ((perc >= 72)&(perc < 76)){\n",
    "            grades$Grade[i] <- \"C\"\n",
    "        }\n",
    "        if ((perc >= 69)&(perc < 72)){\n",
    "            grades$Grade[i] <- \"C-\"\n",
    "        }\n",
    "        if ((perc >= 66)&(perc < 69)){\n",
    "            grades$Grade[i] <- \"D+\"\n",
    "        }\n",
    "        if ((perc >= 62)&(perc < 66)){\n",
    "            grades$Grade[i] <- \"D\"\n",
    "        }\n",
    "        if ((perc >= 59)&(perc < 62)){\n",
    "            grades$Grade[i] <- \"D-\"\n",
    "        }\n",
    "        if ((perc >= 0)&(perc < 59)){\n",
    "            grades$Grade[i] <- \"F\"\n",
    "        }\n",
    "    \n",
    "    }"
   ]
  },
  {
   "cell_type": "markdown",
   "metadata": {},
   "source": [
    "Two new columns *Percentage* and *Grade* has been added to `grades`:"
   ]
  },
  {
   "cell_type": "code",
   "execution_count": 29,
   "metadata": {},
   "outputs": [
    {
     "name": "stdout",
     "output_type": "stream",
     "text": [
      " [1] \"Last.Name\"                                                \n",
      " [2] \"First.Name\"                                               \n",
      " [3] \"Username\"                                                 \n",
      " [4] \"Student.ID\"                                               \n",
      " [5] \"Last.Access\"                                              \n",
      " [6] \"Availability\"                                             \n",
      " [7] \"Absences..Total.Pts..1.Score...52146\"                     \n",
      " [8] \"Weighted.Total..Total.Pts..up.to.11.15.Percentage...43356\"\n",
      " [9] \"Quiz.1..Total.Pts..10.Score...51772\"                      \n",
      "[10] \"Quiz.2..Total.Pts..15.Score...52030\"                      \n",
      "[11] \"HW.1..Total.Pts..3.Score...51289\"                         \n",
      "[12] \"HW.2..Total.Pts..6.Score...51470\"                         \n",
      "[13] \"HW.3..Total.Pts..7.Score...51771\"                         \n",
      "[14] \"HW.4..Total.Pts..7.Score...52031\"                         \n",
      "[15] \"Percentage\"                                               \n",
      "[16] \"Grade\"                                                    \n"
     ]
    }
   ],
   "source": [
    "print(names(grades))"
   ]
  },
  {
   "cell_type": "markdown",
   "metadata": {},
   "source": [
    "### Sanity check - compare it with Blackboard! \n",
    "\n",
    "To make sure that the computation was successful, let's compare the computed percentages with the students' weighted totals stored in the corresponding Blackboard column  (assuming that Blackboard is functioning properly). First, we will need to determine the index of the Blackboard column storing the weighted totals:"
   ]
  },
  {
   "cell_type": "code",
   "execution_count": 30,
   "metadata": {},
   "outputs": [
    {
     "data": {
      "text/html": [
       "8"
      ],
      "text/latex": [
       "8"
      ],
      "text/markdown": [
       "8"
      ],
      "text/plain": [
       "[1] 8"
      ]
     },
     "metadata": {},
     "output_type": "display_data"
    }
   ],
   "source": [
    "(weighted_total_idx <- which(str_detect(names(grades), '^Weighted.Total')))"
   ]
  },
  {
   "cell_type": "markdown",
   "metadata": {},
   "source": [
    "Let's make sure that this is the right column:"
   ]
  },
  {
   "cell_type": "code",
   "execution_count": 31,
   "metadata": {},
   "outputs": [
    {
     "data": {
      "text/html": [
       "'Weighted.Total..Total.Pts..up.to.11.15.Percentage...43356'"
      ],
      "text/latex": [
       "'Weighted.Total..Total.Pts..up.to.11.15.Percentage...43356'"
      ],
      "text/markdown": [
       "'Weighted.Total..Total.Pts..up.to.11.15.Percentage...43356'"
      ],
      "text/plain": [
       "[1] \"Weighted.Total..Total.Pts..up.to.11.15.Percentage...43356\""
      ]
     },
     "metadata": {},
     "output_type": "display_data"
    }
   ],
   "source": [
    "(weighted_total_name <- names(grades)[weighted_total_idx])"
   ]
  },
  {
   "cell_type": "markdown",
   "metadata": {},
   "source": [
    "Now, let's select only 5 columns of the gradebook and show them:"
   ]
  },
  {
   "cell_type": "code",
   "execution_count": 32,
   "metadata": {},
   "outputs": [
    {
     "data": {
      "text/html": [
       "<table>\n",
       "<thead><tr><th scope=col>Last.Name</th><th scope=col>First.Name</th><th scope=col>Weighted.Total..Total.Pts..up.to.11.15.Percentage...43356</th><th scope=col>Percentage</th><th scope=col>Grade</th></tr></thead>\n",
       "<tbody>\n",
       "\t<tr><td>Last_name_1  </td><td>First_name_1 </td><td>100.0        </td><td>100.0        </td><td>A            </td></tr>\n",
       "\t<tr><td>Last_name_2  </td><td>First_name_2 </td><td>100.0        </td><td>100.0        </td><td>A            </td></tr>\n",
       "\t<tr><td>Last_name_3  </td><td>First_name_3 </td><td>100.0        </td><td>100.0        </td><td>A            </td></tr>\n",
       "\t<tr><td>Last_name_4  </td><td>First_name_4 </td><td> 96.8        </td><td> 96.8        </td><td>A            </td></tr>\n",
       "\t<tr><td>Last_name_5  </td><td>First_name_5 </td><td>100.0        </td><td>100.0        </td><td>A            </td></tr>\n",
       "\t<tr><td>Last_name_6  </td><td>First_name_6 </td><td> 90.4        </td><td> 90.4        </td><td>A-           </td></tr>\n",
       "\t<tr><td>Last_name_7  </td><td>First_name_7 </td><td> 93.6        </td><td> 93.6        </td><td>A            </td></tr>\n",
       "\t<tr><td>Last_name_8  </td><td>First_name_8 </td><td> 96.8        </td><td> 96.8        </td><td>A            </td></tr>\n",
       "\t<tr><td>Last_name_9  </td><td>First_name_9 </td><td> 87.2        </td><td> 87.2        </td><td>B+           </td></tr>\n",
       "\t<tr><td>Last_name_10 </td><td>First_name_10</td><td> 90.4        </td><td> 90.4        </td><td>A-           </td></tr>\n",
       "</tbody>\n",
       "</table>\n"
      ],
      "text/latex": [
       "\\begin{tabular}{r|lllll}\n",
       " Last.Name & First.Name & Weighted.Total..Total.Pts..up.to.11.15.Percentage...43356 & Percentage & Grade\\\\\n",
       "\\hline\n",
       "\t Last\\_name\\_1   & First\\_name\\_1  & 100.0             & 100.0             & A                \\\\\n",
       "\t Last\\_name\\_2   & First\\_name\\_2  & 100.0             & 100.0             & A                \\\\\n",
       "\t Last\\_name\\_3   & First\\_name\\_3  & 100.0             & 100.0             & A                \\\\\n",
       "\t Last\\_name\\_4   & First\\_name\\_4  &  96.8             &  96.8             & A                \\\\\n",
       "\t Last\\_name\\_5   & First\\_name\\_5  & 100.0             & 100.0             & A                \\\\\n",
       "\t Last\\_name\\_6   & First\\_name\\_6  &  90.4             &  90.4             & A-               \\\\\n",
       "\t Last\\_name\\_7   & First\\_name\\_7  &  93.6             &  93.6             & A                \\\\\n",
       "\t Last\\_name\\_8   & First\\_name\\_8  &  96.8             &  96.8             & A                \\\\\n",
       "\t Last\\_name\\_9   & First\\_name\\_9  &  87.2             &  87.2             & B+               \\\\\n",
       "\t Last\\_name\\_10  & First\\_name\\_10 &  90.4             &  90.4             & A-               \\\\\n",
       "\\end{tabular}\n"
      ],
      "text/markdown": [
       "\n",
       "| Last.Name | First.Name | Weighted.Total..Total.Pts..up.to.11.15.Percentage...43356 | Percentage | Grade |\n",
       "|---|---|---|---|---|\n",
       "| Last_name_1   | First_name_1  | 100.0         | 100.0         | A             |\n",
       "| Last_name_2   | First_name_2  | 100.0         | 100.0         | A             |\n",
       "| Last_name_3   | First_name_3  | 100.0         | 100.0         | A             |\n",
       "| Last_name_4   | First_name_4  |  96.8         |  96.8         | A             |\n",
       "| Last_name_5   | First_name_5  | 100.0         | 100.0         | A             |\n",
       "| Last_name_6   | First_name_6  |  90.4         |  90.4         | A-            |\n",
       "| Last_name_7   | First_name_7  |  93.6         |  93.6         | A             |\n",
       "| Last_name_8   | First_name_8  |  96.8         |  96.8         | A             |\n",
       "| Last_name_9   | First_name_9  |  87.2         |  87.2         | B+            |\n",
       "| Last_name_10  | First_name_10 |  90.4         |  90.4         | A-            |\n",
       "\n"
      ],
      "text/plain": [
       "   Last.Name    First.Name   \n",
       "1  Last_name_1  First_name_1 \n",
       "2  Last_name_2  First_name_2 \n",
       "3  Last_name_3  First_name_3 \n",
       "4  Last_name_4  First_name_4 \n",
       "5  Last_name_5  First_name_5 \n",
       "6  Last_name_6  First_name_6 \n",
       "7  Last_name_7  First_name_7 \n",
       "8  Last_name_8  First_name_8 \n",
       "9  Last_name_9  First_name_9 \n",
       "10 Last_name_10 First_name_10\n",
       "   Weighted.Total..Total.Pts..up.to.11.15.Percentage...43356 Percentage Grade\n",
       "1  100.0                                                     100.0      A    \n",
       "2  100.0                                                     100.0      A    \n",
       "3  100.0                                                     100.0      A    \n",
       "4   96.8                                                      96.8      A    \n",
       "5  100.0                                                     100.0      A    \n",
       "6   90.4                                                      90.4      A-   \n",
       "7   93.6                                                      93.6      A    \n",
       "8   96.8                                                      96.8      A    \n",
       "9   87.2                                                      87.2      B+   \n",
       "10  90.4                                                      90.4      A-   "
      ]
     },
     "metadata": {},
     "output_type": "display_data"
    }
   ],
   "source": [
    "grades[c('Last.Name', 'First.Name', weighted_total_name, 'Percentage', 'Grade')]"
   ]
  },
  {
   "cell_type": "markdown",
   "metadata": {},
   "source": [
    "Hopefully, the agreement is good! \n",
    "\n",
    "### Re-ordering the gradebook columns\n",
    "\n",
    "Currently, the added columns, *Percentage* and *Grade*, appear at the very end of the `grades` data frame. We would like to place these columns next to the original column storing the weighted totals to make it easier to compare our result with the one computed by Blackboard (so that we won't have to go through a similar selection process in the future). To this end, we will create a new vector storing the column numbers exactly in the order we want them to be:"
   ]
  },
  {
   "cell_type": "code",
   "execution_count": 33,
   "metadata": {},
   "outputs": [
    {
     "data": {
      "text/html": [
       "16"
      ],
      "text/latex": [
       "16"
      ],
      "text/markdown": [
       "16"
      ],
      "text/plain": [
       "[1] 16"
      ]
     },
     "metadata": {},
     "output_type": "display_data"
    }
   ],
   "source": [
    "(col_number <- ncol(grades))"
   ]
  },
  {
   "cell_type": "code",
   "execution_count": 34,
   "metadata": {},
   "outputs": [
    {
     "data": {
      "text/html": [
       "<ol class=list-inline>\n",
       "\t<li>1</li>\n",
       "\t<li>2</li>\n",
       "\t<li>3</li>\n",
       "\t<li>4</li>\n",
       "\t<li>5</li>\n",
       "\t<li>6</li>\n",
       "\t<li>7</li>\n",
       "\t<li>8</li>\n",
       "\t<li>15</li>\n",
       "\t<li>16</li>\n",
       "\t<li>9</li>\n",
       "\t<li>10</li>\n",
       "\t<li>11</li>\n",
       "\t<li>12</li>\n",
       "\t<li>13</li>\n",
       "\t<li>14</li>\n",
       "</ol>\n"
      ],
      "text/latex": [
       "\\begin{enumerate*}\n",
       "\\item 1\n",
       "\\item 2\n",
       "\\item 3\n",
       "\\item 4\n",
       "\\item 5\n",
       "\\item 6\n",
       "\\item 7\n",
       "\\item 8\n",
       "\\item 15\n",
       "\\item 16\n",
       "\\item 9\n",
       "\\item 10\n",
       "\\item 11\n",
       "\\item 12\n",
       "\\item 13\n",
       "\\item 14\n",
       "\\end{enumerate*}\n"
      ],
      "text/markdown": [
       "1. 1\n",
       "2. 2\n",
       "3. 3\n",
       "4. 4\n",
       "5. 5\n",
       "6. 6\n",
       "7. 7\n",
       "8. 8\n",
       "9. 15\n",
       "10. 16\n",
       "11. 9\n",
       "12. 10\n",
       "13. 11\n",
       "14. 12\n",
       "15. 13\n",
       "16. 14\n",
       "\n",
       "\n"
      ],
      "text/plain": [
       " [1]  1  2  3  4  5  6  7  8 15 16  9 10 11 12 13 14"
      ]
     },
     "metadata": {},
     "output_type": "display_data"
    }
   ],
   "source": [
    "(new_order <- c(seq(1, weighted_total_idx), (col_number-1), col_number, \n",
    "                seq((weighted_total_idx + 1), (col_number-2))))"
   ]
  },
  {
   "cell_type": "markdown",
   "metadata": {},
   "source": [
    "Reordered column namse of `grades` become:"
   ]
  },
  {
   "cell_type": "code",
   "execution_count": 35,
   "metadata": {},
   "outputs": [
    {
     "name": "stdout",
     "output_type": "stream",
     "text": [
      " [1] \"Last.Name\"                                                \n",
      " [2] \"First.Name\"                                               \n",
      " [3] \"Username\"                                                 \n",
      " [4] \"Student.ID\"                                               \n",
      " [5] \"Last.Access\"                                              \n",
      " [6] \"Availability\"                                             \n",
      " [7] \"Absences..Total.Pts..1.Score...52146\"                     \n",
      " [8] \"Weighted.Total..Total.Pts..up.to.11.15.Percentage...43356\"\n",
      " [9] \"Percentage\"                                               \n",
      "[10] \"Grade\"                                                    \n",
      "[11] \"Quiz.1..Total.Pts..10.Score...51772\"                      \n",
      "[12] \"Quiz.2..Total.Pts..15.Score...52030\"                      \n",
      "[13] \"HW.1..Total.Pts..3.Score...51289\"                         \n",
      "[14] \"HW.2..Total.Pts..6.Score...51470\"                         \n",
      "[15] \"HW.3..Total.Pts..7.Score...51771\"                         \n",
      "[16] \"HW.4..Total.Pts..7.Score...52031\"                         \n"
     ]
    }
   ],
   "source": [
    "print(names(grades[new_order]))"
   ]
  },
  {
   "cell_type": "markdown",
   "metadata": {},
   "source": [
    "### Recording it all to a CSV file \n",
    "\n",
    "Finally, we will write the reordered `grades` data frame in a csv file which can then be uploaded back to Blackboard:"
   ]
  },
  {
   "cell_type": "code",
   "execution_count": 36,
   "metadata": {},
   "outputs": [],
   "source": [
    "write.csv(grades[new_order], file = 'final_grades.csv')"
   ]
  }
 ],
 "metadata": {
  "celltoolbar": "Raw Cell Format",
  "kernelspec": {
   "display_name": "R",
   "language": "R",
   "name": "ir"
  },
  "language_info": {
   "codemirror_mode": "r",
   "file_extension": ".r",
   "mimetype": "text/x-r-source",
   "name": "R",
   "pygments_lexer": "r",
   "version": "3.5.1"
  }
 },
 "nbformat": 4,
 "nbformat_minor": 2
}
